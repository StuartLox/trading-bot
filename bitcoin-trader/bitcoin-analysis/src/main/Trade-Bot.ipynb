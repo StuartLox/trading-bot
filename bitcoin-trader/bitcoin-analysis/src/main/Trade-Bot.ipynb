{
 "cells": [
  {
   "cell_type": "code",
   "execution_count": 22,
   "metadata": {},
   "outputs": [],
   "source": [
    "from fbprophet import Prophet\n",
    "import matplotlib.pyplot as plt\n",
    "import pandas as pd"
   ]
  },
  {
   "cell_type": "code",
   "execution_count": 23,
   "metadata": {},
   "outputs": [],
   "source": [
    "import sys\n",
    "from yahoo_finance_api2 import share\n",
    "from yahoo_finance_api2.exceptions import YahooFinanceError\n",
    "\n",
    "bitcoin_aud = share.Share('BTC-AUD')\n",
    "bitcoin_data = bitcoin_aud.get_historical(\n",
    "    share.PERIOD_TYPE_DAY, 10,\n",
    "    share.FREQUENCY_TYPE_MINUTE, 5)"
   ]
  },
  {
   "cell_type": "code",
   "execution_count": 24,
   "metadata": {},
   "outputs": [
    {
     "data": {
      "text/html": [
       "<div>\n",
       "<style scoped>\n",
       "    .dataframe tbody tr th:only-of-type {\n",
       "        vertical-align: middle;\n",
       "    }\n",
       "\n",
       "    .dataframe tbody tr th {\n",
       "        vertical-align: top;\n",
       "    }\n",
       "\n",
       "    .dataframe thead th {\n",
       "        text-align: right;\n",
       "    }\n",
       "</style>\n",
       "<table border=\"1\" class=\"dataframe\">\n",
       "  <thead>\n",
       "    <tr style=\"text-align: right;\">\n",
       "      <th></th>\n",
       "      <th>timestamp</th>\n",
       "      <th>open</th>\n",
       "      <th>high</th>\n",
       "      <th>low</th>\n",
       "      <th>close</th>\n",
       "      <th>volume</th>\n",
       "    </tr>\n",
       "  </thead>\n",
       "  <tbody>\n",
       "    <tr>\n",
       "      <th>0</th>\n",
       "      <td>1569766200000</td>\n",
       "      <td>11936.509766</td>\n",
       "      <td>11936.509766</td>\n",
       "      <td>11936.509766</td>\n",
       "      <td>11936.509766</td>\n",
       "      <td>0.0</td>\n",
       "    </tr>\n",
       "    <tr>\n",
       "      <th>1</th>\n",
       "      <td>1569766500000</td>\n",
       "      <td>11932.349609</td>\n",
       "      <td>11932.349609</td>\n",
       "      <td>11916.379883</td>\n",
       "      <td>11916.379883</td>\n",
       "      <td>38443.0</td>\n",
       "    </tr>\n",
       "    <tr>\n",
       "      <th>2</th>\n",
       "      <td>1569766800000</td>\n",
       "      <td>11910.639648</td>\n",
       "      <td>11910.639648</td>\n",
       "      <td>11910.639648</td>\n",
       "      <td>11910.639648</td>\n",
       "      <td>251.0</td>\n",
       "    </tr>\n",
       "    <tr>\n",
       "      <th>3</th>\n",
       "      <td>1569767100000</td>\n",
       "      <td>11910.639648</td>\n",
       "      <td>11910.639648</td>\n",
       "      <td>11903.650391</td>\n",
       "      <td>11903.650391</td>\n",
       "      <td>2344.0</td>\n",
       "    </tr>\n",
       "    <tr>\n",
       "      <th>4</th>\n",
       "      <td>1569767400000</td>\n",
       "      <td>11941.860352</td>\n",
       "      <td>11941.860352</td>\n",
       "      <td>11941.860352</td>\n",
       "      <td>11941.860352</td>\n",
       "      <td>13044.0</td>\n",
       "    </tr>\n",
       "  </tbody>\n",
       "</table>\n",
       "</div>"
      ],
      "text/plain": [
       "       timestamp          open          high           low         close  \\\n",
       "0  1569766200000  11936.509766  11936.509766  11936.509766  11936.509766   \n",
       "1  1569766500000  11932.349609  11932.349609  11916.379883  11916.379883   \n",
       "2  1569766800000  11910.639648  11910.639648  11910.639648  11910.639648   \n",
       "3  1569767100000  11910.639648  11910.639648  11903.650391  11903.650391   \n",
       "4  1569767400000  11941.860352  11941.860352  11941.860352  11941.860352   \n",
       "\n",
       "    volume  \n",
       "0      0.0  \n",
       "1  38443.0  \n",
       "2    251.0  \n",
       "3   2344.0  \n",
       "4  13044.0  "
      ]
     },
     "execution_count": 24,
     "metadata": {},
     "output_type": "execute_result"
    }
   ],
   "source": [
    "df = pd.DataFrame(bitcoin_data)\n",
    "df.head()"
   ]
  },
  {
   "cell_type": "code",
   "execution_count": 25,
   "metadata": {},
   "outputs": [],
   "source": [
    "df = df.drop(['volume'], axis=1)"
   ]
  },
  {
   "cell_type": "code",
   "execution_count": 33,
   "metadata": {},
   "outputs": [
    {
     "data": {
      "text/html": [
       "<div>\n",
       "<style scoped>\n",
       "    .dataframe tbody tr th:only-of-type {\n",
       "        vertical-align: middle;\n",
       "    }\n",
       "\n",
       "    .dataframe tbody tr th {\n",
       "        vertical-align: top;\n",
       "    }\n",
       "\n",
       "    .dataframe thead th {\n",
       "        text-align: right;\n",
       "    }\n",
       "</style>\n",
       "<table border=\"1\" class=\"dataframe\">\n",
       "  <thead>\n",
       "    <tr style=\"text-align: right;\">\n",
       "      <th></th>\n",
       "      <th>open</th>\n",
       "      <th>high</th>\n",
       "      <th>low</th>\n",
       "      <th>close</th>\n",
       "    </tr>\n",
       "    <tr>\n",
       "      <th>timestamp</th>\n",
       "      <th></th>\n",
       "      <th></th>\n",
       "      <th></th>\n",
       "      <th></th>\n",
       "    </tr>\n",
       "  </thead>\n",
       "  <tbody>\n",
       "    <tr>\n",
       "      <th>2019-09-29</th>\n",
       "      <td>11930.236097</td>\n",
       "      <td>11937.472331</td>\n",
       "      <td>11925.222247</td>\n",
       "      <td>11932.524068</td>\n",
       "    </tr>\n",
       "    <tr>\n",
       "      <th>2019-09-30</th>\n",
       "      <td>12042.776408</td>\n",
       "      <td>12058.184519</td>\n",
       "      <td>12028.830400</td>\n",
       "      <td>12044.131565</td>\n",
       "    </tr>\n",
       "    <tr>\n",
       "      <th>2019-10-01</th>\n",
       "      <td>12533.028163</td>\n",
       "      <td>12544.449445</td>\n",
       "      <td>12520.558899</td>\n",
       "      <td>12531.685358</td>\n",
       "    </tr>\n",
       "    <tr>\n",
       "      <th>2019-10-02</th>\n",
       "      <td>12359.632768</td>\n",
       "      <td>12367.196467</td>\n",
       "      <td>12352.251610</td>\n",
       "      <td>12360.341255</td>\n",
       "    </tr>\n",
       "    <tr>\n",
       "      <th>2019-10-03</th>\n",
       "      <td>12302.164128</td>\n",
       "      <td>12309.947925</td>\n",
       "      <td>12293.876870</td>\n",
       "      <td>12301.932935</td>\n",
       "    </tr>\n",
       "    <tr>\n",
       "      <th>2019-10-04</th>\n",
       "      <td>12092.305003</td>\n",
       "      <td>12101.101415</td>\n",
       "      <td>12084.350027</td>\n",
       "      <td>12092.907741</td>\n",
       "    </tr>\n",
       "    <tr>\n",
       "      <th>2019-10-05</th>\n",
       "      <td>11998.620188</td>\n",
       "      <td>12007.116235</td>\n",
       "      <td>11990.260461</td>\n",
       "      <td>11999.093106</td>\n",
       "    </tr>\n",
       "    <tr>\n",
       "      <th>2019-10-06</th>\n",
       "      <td>11822.651744</td>\n",
       "      <td>11829.968933</td>\n",
       "      <td>11814.034912</td>\n",
       "      <td>11821.186595</td>\n",
       "    </tr>\n",
       "    <tr>\n",
       "      <th>2019-10-07</th>\n",
       "      <td>11952.140303</td>\n",
       "      <td>11962.554606</td>\n",
       "      <td>11944.009115</td>\n",
       "      <td>11954.160831</td>\n",
       "    </tr>\n",
       "    <tr>\n",
       "      <th>2019-10-08</th>\n",
       "      <td>12214.788476</td>\n",
       "      <td>12223.059146</td>\n",
       "      <td>12206.636943</td>\n",
       "      <td>12215.265852</td>\n",
       "    </tr>\n",
       "    <tr>\n",
       "      <th>2019-10-09</th>\n",
       "      <td>12147.181140</td>\n",
       "      <td>12154.935374</td>\n",
       "      <td>12137.990259</td>\n",
       "      <td>12146.340993</td>\n",
       "    </tr>\n",
       "  </tbody>\n",
       "</table>\n",
       "</div>"
      ],
      "text/plain": [
       "                    open          high           low         close\n",
       "timestamp                                                         \n",
       "2019-09-29  11930.236097  11937.472331  11925.222247  11932.524068\n",
       "2019-09-30  12042.776408  12058.184519  12028.830400  12044.131565\n",
       "2019-10-01  12533.028163  12544.449445  12520.558899  12531.685358\n",
       "2019-10-02  12359.632768  12367.196467  12352.251610  12360.341255\n",
       "2019-10-03  12302.164128  12309.947925  12293.876870  12301.932935\n",
       "2019-10-04  12092.305003  12101.101415  12084.350027  12092.907741\n",
       "2019-10-05  11998.620188  12007.116235  11990.260461  11999.093106\n",
       "2019-10-06  11822.651744  11829.968933  11814.034912  11821.186595\n",
       "2019-10-07  11952.140303  11962.554606  11944.009115  11954.160831\n",
       "2019-10-08  12214.788476  12223.059146  12206.636943  12215.265852\n",
       "2019-10-09  12147.181140  12154.935374  12137.990259  12146.340993"
      ]
     },
     "execution_count": 33,
     "metadata": {},
     "output_type": "execute_result"
    }
   ],
   "source": [
    "df['timestamp'] = pd.to_datetime(df['timestamp'],unit='ms')\n",
    "(df.set_index(\"timestamp\")\n",
    "   .resample('D')\n",
    "   .mean()\n",
    ")"
   ]
  },
  {
   "cell_type": "code",
   "execution_count": 34,
   "metadata": {},
   "outputs": [],
   "source": [
    "data = df.rename(columns={'timestamp': 'ds', 'open': 'y'})"
   ]
  },
  {
   "cell_type": "code",
   "execution_count": 36,
   "metadata": {},
   "outputs": [
    {
     "name": "stderr",
     "output_type": "stream",
     "text": [
      "INFO:fbprophet:Disabling yearly seasonality. Run prophet with yearly_seasonality=True to override this.\n",
      "INFO:fbprophet:Disabling weekly seasonality. Run prophet with weekly_seasonality=True to override this.\n"
     ]
    },
    {
     "data": {
      "text/plain": [
       "<fbprophet.forecaster.Prophet at 0x1213f86d8>"
      ]
     },
     "execution_count": 36,
     "metadata": {},
     "output_type": "execute_result"
    }
   ],
   "source": [
    "m = Prophet()\n",
    "m.fit(data[['ds','y']])"
   ]
  },
  {
   "cell_type": "code",
   "execution_count": 39,
   "metadata": {},
   "outputs": [
    {
     "data": {
      "text/html": [
       "<div>\n",
       "<style scoped>\n",
       "    .dataframe tbody tr th:only-of-type {\n",
       "        vertical-align: middle;\n",
       "    }\n",
       "\n",
       "    .dataframe tbody tr th {\n",
       "        vertical-align: top;\n",
       "    }\n",
       "\n",
       "    .dataframe thead th {\n",
       "        text-align: right;\n",
       "    }\n",
       "</style>\n",
       "<table border=\"1\" class=\"dataframe\">\n",
       "  <thead>\n",
       "    <tr style=\"text-align: right;\">\n",
       "      <th></th>\n",
       "      <th>ds</th>\n",
       "      <th>yhat</th>\n",
       "      <th>yhat_lower</th>\n",
       "      <th>yhat_upper</th>\n",
       "    </tr>\n",
       "  </thead>\n",
       "  <tbody>\n",
       "    <tr>\n",
       "      <th>2865</th>\n",
       "      <td>2019-10-09 12:55:00</td>\n",
       "      <td>12118.870008</td>\n",
       "      <td>12053.400374</td>\n",
       "      <td>12183.619324</td>\n",
       "    </tr>\n",
       "    <tr>\n",
       "      <th>2866</th>\n",
       "      <td>2019-10-09 13:00:00</td>\n",
       "      <td>12117.763793</td>\n",
       "      <td>12047.693022</td>\n",
       "      <td>12182.381834</td>\n",
       "    </tr>\n",
       "    <tr>\n",
       "      <th>2867</th>\n",
       "      <td>2019-10-09 13:05:00</td>\n",
       "      <td>12116.742586</td>\n",
       "      <td>12046.852450</td>\n",
       "      <td>12180.429948</td>\n",
       "    </tr>\n",
       "    <tr>\n",
       "      <th>2868</th>\n",
       "      <td>2019-10-09 13:08:56</td>\n",
       "      <td>12116.004056</td>\n",
       "      <td>12046.082698</td>\n",
       "      <td>12179.945079</td>\n",
       "    </tr>\n",
       "    <tr>\n",
       "      <th>2869</th>\n",
       "      <td>2019-10-10 13:08:56</td>\n",
       "      <td>12079.817118</td>\n",
       "      <td>10961.609020</td>\n",
       "      <td>13185.119018</td>\n",
       "    </tr>\n",
       "  </tbody>\n",
       "</table>\n",
       "</div>"
      ],
      "text/plain": [
       "                      ds          yhat    yhat_lower    yhat_upper\n",
       "2865 2019-10-09 12:55:00  12118.870008  12053.400374  12183.619324\n",
       "2866 2019-10-09 13:00:00  12117.763793  12047.693022  12182.381834\n",
       "2867 2019-10-09 13:05:00  12116.742586  12046.852450  12180.429948\n",
       "2868 2019-10-09 13:08:56  12116.004056  12046.082698  12179.945079\n",
       "2869 2019-10-10 13:08:56  12079.817118  10961.609020  13185.119018"
      ]
     },
     "execution_count": 39,
     "metadata": {},
     "output_type": "execute_result"
    }
   ],
   "source": [
    "future = m.make_future_dataframe(periods=1)\n",
    "forecast = m.predict(future)\n",
    "forecast[['ds', 'yhat', 'yhat_lower', 'yhat_upper']].tail()"
   ]
  },
  {
   "cell_type": "code",
   "execution_count": 38,
   "metadata": {},
   "outputs": [
    {
     "data": {
      "image/png": "[encoded data removed]",
      "text/plain": [
       "<Figure size 720x432 with 1 Axes>"
      ]
     },
     "metadata": {},
     "output_type": "display_data"
    }
   ],
   "source": [
    "fig1 = m.plot(forecast)\n",
    "plt.show()"
   ]
  },
  {
   "cell_type": "code",
   "execution_count": null,
   "metadata": {},
   "outputs": [],
   "source": []
  }
 ],
 "metadata": {
  "kernelspec": {
   "display_name": "Python 3",
   "language": "python",
   "name": "python3"
  },
  "language_info": {
   "codemirror_mode": {
    "name": "ipython",
    "version": 3
   },
   "file_extension": ".py",
   "mimetype": "text/x-python",
   "name": "python",
   "nbconvert_exporter": "python",
   "pygments_lexer": "ipython3",
   "version": "3.6.7"
  }
 },
 "nbformat": 4,
 "nbformat_minor": 2
}
