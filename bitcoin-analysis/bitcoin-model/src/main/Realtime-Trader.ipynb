{
 "cells": [
  {
   "cell_type": "markdown",
   "metadata": {},
   "source": [
    "# Realtime Crypto Trading Model\n",
    "\n",
    "## Objectives\n",
    "\n",
    "* Our goal is to build a model that can accuratley forecast the future price of bitcoin in order to make profitable trades.\n",
    "* The model should be making inferences in realtime and should get retrained periodically.\n",
    "\n",
    "\n",
    "## What to predict?\n",
    "\n",
    "* Rather than aiming to predict a particular quote price at a set time $t$.\n",
    "\n",
    "* Daily average price can be approximated by:\n",
    "$$\\bar{P}_{i}=\\frac{C_{i} + H_{i} + L_{i}}{3}$$\n",
    "\n",
    "* where Ci, Hi and Li are the close, high, and low quotes for day i, respectively.\n",
    "* Let Vi be the set of k percentage variations of today’s close to the following k days average prices (often called arithmetic returns):\n",
    "\n",
    "$$V_{i} = \\bigg\\{\\frac{\\bar{P}_{i+j}-C_{i}}{C_{i}}\\bigg\\}_{j=1}^k$$\n",
    "\n",
    "* Our indicator variable is the total sum of the variations whose absolute value is above our target margin p%:\n",
    "\n",
    "$$T_{i} = \\sum_{v}\\{v\\; \\epsilon\\; V_{i}: v > p\\%\\;\\vee\\;v < -p\\%\\}$$\n",
    "\n",
    "* The general idea of the variable **T** is to signal k-days periods that have several days with average daily prices clearly above the target variation.\n",
    "* High positive values of **T** mean that there are several average daily prices that are p% higher than today’s close.\n",
    "* Such situations are good indications of potential opportunities to issue a buy order, as we have good expectations that the prices will rise. \n",
    "* On the other hand, highly negative values of T suggest sell actions, given the prices will probably decline. Values around zero can be caused by periods with “flat” prices or by conflicting positive and negative variations that cancel each other."
   ]
  },
  {
   "cell_type": "code",
   "execution_count": null,
   "metadata": {},
   "outputs": [],
   "source": []
  }
 ],
 "metadata": {
  "kernelspec": {
   "display_name": "Python 3",
   "language": "python",
   "name": "python3"
  },
  "language_info": {
   "codemirror_mode": {
    "name": "ipython",
    "version": 3
   },
   "file_extension": ".py",
   "mimetype": "text/x-python",
   "name": "python",
   "nbconvert_exporter": "python",
   "pygments_lexer": "ipython3",
   "version": "3.6.7"
  }
 },
 "nbformat": 4,
 "nbformat_minor": 2
}
