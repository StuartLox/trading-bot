{
 "cells": [
  {
   "cell_type": "markdown",
   "execution_count": null,
   "metadata": {},
   "outputs": [],
   "source": [
    "# Realtime Crypto Trading Model\n",
    "\n",
    "## Objectives\n",
    "\n",
    "* Our goal is to build a model that can accuratley forecast the future price of bitcoin in order to make profitable trades.\n",
    "* The model should be making inferences in realtime and should get retrained periodically.\n",
    "\n",
    "\n",
    "## What to predict?\n",
    "\n",
    "* Rather than aiming to predict a particular quote price at a set time $t$.\n",
    "\n",
    "* Daily average price can be approximated by:\n",
    "$$\\bar{P}_{i}=\\frac{C_{i} + H_{i} + L_{i}}{3}$$\n",
    "\n",
    "* where Ci, Hi and Li are the close, high, and low quotes for day i, respectively.\n",
    "* Let Vi be the set of k percentage variations of today’s close to the following k days average prices (often called arithmetic returns):\n",
    "\n",
    "$$V_{i} = \\bigg\\{\\frac{\\bar{P}_{i+j}-C_{i}}{C_{i}}\\bigg\\}_{j=1}^k$$\n",
    "\n",
    "* Our indicator variable is the total sum of the variations whose absolute value is above our target margin p%:\n",
    "\n",
    "$$T_{i} = \\sum_{v}\\{v\\; \\epsilon\\; V_{i}: v > p\\%\\;\\vee\\;v < -p\\%\\}$$\n",
    "\n",
    "* The general idea of the variable **T** is to signal k-days periods that have several days with average daily prices clearly above the target variation.\n",
    "* High positive values of **T** mean that there are several average daily prices that are p% higher than today’s close.\n",
    "* Such situations are good indications of potential opportunities to issue a buy order, as we have good expectations that the prices will rise. \n",
    "* On the other hand, highly negative values of T suggest sell actions, given the prices will probably decline. Values around zero can be caused by periods with “flat” prices or by conflicting positive and negative variations that cancel each other.\n",
    "\n",
    "We can formalise a trading strategy by implementing the following:\n",
    "\n",
    "$$\n",
    "  \\text{signal} =\n",
    "  \\begin{cases}\n",
    "  \\text{sell} & \\text{if $\\;T\\;\\leq-0.1$} \\\\\n",
    "  \\text{hold}  & \\text{if $\\;-0.1\\leq\\;T\\;\\leq0.1$} \\\\\n",
    "  \\text{buy} & \\text{if $\\;T\\;\\geq0.1$}\n",
    "  \\end{cases}\n",
    "$$\n",
    "\n",
    "## Model Features\n",
    "\n",
    "* We have defined an indicator (T) that summarizes the behavior of the price time series in the next k days. Our assumption is that there exists signal given by previous prices that predict expected future price.\n",
    "\n",
    "### Rolling Arithmetic Mean\n",
    "\n",
    "TODO\n",
    "\n",
    "### Average True Range (ATR)\n",
    "\n",
    "TODO\n",
    "\n",
    "### Moving Average Convergence Divergence (MACD)\n",
    "\n",
    "TODO\n",
    "\n",
    "### Garman Volatility\n",
    "\n",
    "TODO"
   ]
  },
  {
   "cell_type": "code",
   "execution_count": 2,
   "metadata": {},
   "outputs": [
    {
     "data": {
      "text/html": "<div>\n<style scoped>\n    .dataframe tbody tr th:only-of-type {\n        vertical-align: middle;\n    }\n\n    .dataframe tbody tr th {\n        vertical-align: top;\n    }\n\n    .dataframe thead th {\n        text-align: right;\n    }\n</style>\n<table border=\"1\" class=\"dataframe\">\n  <thead>\n    <tr style=\"text-align: right;\">\n      <th></th>\n      <th>timestamp</th>\n      <th>open</th>\n      <th>high</th>\n      <th>low</th>\n      <th>close</th>\n      <th>volume</th>\n    </tr>\n  </thead>\n  <tbody>\n    <tr>\n      <th>0</th>\n      <td>2020-02-05 20:45:00</td>\n      <td>14267.895508</td>\n      <td>14272.115234</td>\n      <td>14250.225586</td>\n      <td>14250.225586</td>\n      <td>0.0</td>\n    </tr>\n    <tr>\n      <th>1</th>\n      <td>2020-02-05 20:50:00</td>\n      <td>14235.811523</td>\n      <td>14285.805664</td>\n      <td>14235.811523</td>\n      <td>14273.457031</td>\n      <td>129941504.0</td>\n    </tr>\n    <tr>\n      <th>2</th>\n      <td>2020-02-05 20:55:00</td>\n      <td>14284.272461</td>\n      <td>14294.181641</td>\n      <td>14262.631836</td>\n      <td>14276.050781</td>\n      <td>84103168.0</td>\n    </tr>\n    <tr>\n      <th>3</th>\n      <td>2020-02-05 21:00:00</td>\n      <td>14296.575195</td>\n      <td>14296.575195</td>\n      <td>14286.344727</td>\n      <td>14286.344727</td>\n      <td>0.0</td>\n    </tr>\n    <tr>\n      <th>4</th>\n      <td>2020-02-05 21:05:00</td>\n      <td>14277.032227</td>\n      <td>14287.626953</td>\n      <td>14275.538086</td>\n      <td>14287.626953</td>\n      <td>124997632.0</td>\n    </tr>\n  </tbody>\n</table>\n</div>",
      "text/plain": "            timestamp          open          high           low         close  \\\n0 2020-02-05 20:45:00  14267.895508  14272.115234  14250.225586  14250.225586   \n1 2020-02-05 20:50:00  14235.811523  14285.805664  14235.811523  14273.457031   \n2 2020-02-05 20:55:00  14284.272461  14294.181641  14262.631836  14276.050781   \n3 2020-02-05 21:00:00  14296.575195  14296.575195  14286.344727  14286.344727   \n4 2020-02-05 21:05:00  14277.032227  14287.626953  14275.538086  14287.626953   \n\n        volume  \n0          0.0  \n1  129941504.0  \n2   84103168.0  \n3          0.0  \n4  124997632.0  "
     },
     "execution_count": 2,
     "metadata": {},
     "output_type": "execute_result"
    }
   ],
   "source": [
    "import sys\n",
    "import matplotlib.pyplot as plt\n",
    "import pandas as pd\n",
    "from yahoo_finance_api2 import share\n",
    "from yahoo_finance_api2.exceptions import YahooFinanceError\n",
    "\n",
    "bitcoin_aud = share.Share('BTC-AUD')\n",
    "bitcoin_data = bitcoin_aud.get_historical(\n",
    "    share.PERIOD_TYPE_DAY, 10,\n",
    "    share.FREQUENCY_TYPE_MINUTE, 5)\n",
    "\n",
    "df = pd.DataFrame(bitcoin_data)\n",
    "df['timestamp'] = pd.to_datetime(df['timestamp'],unit='ms')\n",
    "df.head()"
   ]
  },
  {
   "cell_type": "code",
   "execution_count": 3,
   "metadata": {},
   "outputs": [],
   "source": [
    "# Daily Average Price\n",
    "def calc_daily_avg_price(close, high, low):\n",
    "    daily_avg_price = (close + high + low) / 3\n",
    "    return daily_avg_price\n",
    "\n",
    "def ewma():\n",
    "    df['26 ema'] = pd.Series.ewm(df[\"Close\"], span=26).mean()\n",
    "    df['12 ema'] = pd.Series.ewm(df[\"Close\"], span=12).mean()\n",
    "    df['MACD'] = (df['12 ema'] - df['26 ema'])"
   ]
  },
  {
   "cell_type": "code",
   "execution_count": 12,
   "metadata": {},
   "outputs": [],
   "source": [
    "def t_indicator(quotes, tgt_margin):\n",
    "    p = quotes[['high', 'low', 'close']].mean(axis=1)\n",
    "    v = (p - quotes['close'])/ quotes['close']\n",
    "    return v[(v > tgt_margin) | (v < -tgt_margin)]"
   ]
  },
  {
   "cell_type": "code",
   "execution_count": 16,
   "metadata": {},
   "outputs": [
    {
     "data": {
      "text/plain": "Series([], dtype: float64)"
     },
     "execution_count": 16,
     "metadata": {},
     "output_type": "execute_result"
    }
   ],
   "source": [
    "t_indicator(df, 0.005)"
   ]
  },
  {
   "cell_type": "code",
   "execution_count": 11,
   "metadata": {},
   "outputs": [
    {
     "data": {
      "text/plain": "0       0.000512\n1      -0.000591\n5      -0.000721\n7      -0.000792\n11     -0.000513\n18      0.000826\n34      0.000800\n42      0.000899\n43      0.000969\n52     -0.000515\n86     -0.000522\n119    -0.000504\n126    -0.000679\n134     0.000708\n135     0.000654\n170    -0.000578\n189    -0.000614\n191     0.000662\n204     0.001171\n205     0.002527\n207     0.000599\n213    -0.000910\n214    -0.000664\n218     0.000621\n220    -0.000825\n223     0.001059\n225    -0.000606\n229    -0.000543\n236     0.000622\n243     0.000524\n          ...   \n2219   -0.000667\n2220   -0.000696\n2223    0.001747\n2224    0.000919\n2225   -0.001427\n2226    0.000673\n2244   -0.000550\n2255    0.000610\n2258    0.000617\n2319    0.000524\n2321    0.000692\n2323    0.000568\n2334   -0.000560\n2356   -0.000771\n2386    0.000561\n2399   -0.000609\n2404    0.000649\n2440   -0.000571\n2608    0.000526\n2725    0.000540\n2775    0.000597\n2821    0.003674\n2822    0.001623\n2823   -0.000912\n2824   -0.001740\n2829    0.001343\n2830    0.000801\n2831    0.001283\n2843    0.000752\n2847    0.000669\nLength: 181, dtype: float64"
     },
     "execution_count": 11,
     "metadata": {},
     "output_type": "execute_result"
    }
   ],
   "source": [
    "tgt_margin = 0.0005\n",
    "v[(v > tgt_margin) | (v < -tgt_margin)]"
   ]
  },
  {
   "cell_type": "code",
   "execution_count": null,
   "metadata": {},
   "outputs": [],
   "source": []
  }
 ],
 "metadata": {
  "kernelspec": {
   "display_name": "Python 3",
   "language": "python",
   "name": "python3"
  },
  "language_info": {
   "codemirror_mode": {
    "name": "ipython",
    "version": 3
   },
   "file_extension": ".py",
   "mimetype": "text/x-python",
   "name": "python",
   "nbconvert_exporter": "python",
   "pygments_lexer": "ipython3",
   "version": "3.6.7-final"
  }
 },
 "nbformat": 4,
 "nbformat_minor": 2
}